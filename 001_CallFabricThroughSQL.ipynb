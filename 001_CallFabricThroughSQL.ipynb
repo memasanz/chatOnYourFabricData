{
 "cells": [
  {
   "cell_type": "markdown",
   "id": "68f17ec0",
   "metadata": {},
   "source": [
    "# Check Yourself.\n",
    "This notebook is intended to explore your ability to connect to a `Fabric SQL Endpoint`\n",
    "\n",
    "Required to have the `ODBC Driver 18 for SQL Server` installed & use `az login`"
   ]
  },
  {
   "cell_type": "markdown",
   "id": "4343b898",
   "metadata": {},
   "source": [
    "## Python Notebook to Connect to Fabric SQL Endpoint\n",
    "\n",
    "- This notebook will help to troubleshoot Fabric SQL Endpoint connectivity that will be used for building our Agents via Semantic Kerenel and through the Agent Service with tools excluding the Fabric Data Agent.  This is not the ideal path, but if the Fabric Data Agent is not able to provide the quality of answers it does when called directly though Fabric, this will help to guide our Architecture choices."
   ]
  },
  {
   "cell_type": "code",
   "execution_count": 69,
   "id": "825e657b",
   "metadata": {},
   "outputs": [
    {
     "data": {
      "text/plain": [
       "True"
      ]
     },
     "execution_count": 69,
     "metadata": {},
     "output_type": "execute_result"
    }
   ],
   "source": [
    "import pyodbc\n",
    "import os\n",
    "from dotenv import load_dotenv  \n",
    "import pandas as pd\n",
    "from sqlalchemy import create_engine\n",
    "import struct\n",
    "\n",
    "load_dotenv(override=True) "
   ]
  },
  {
   "cell_type": "code",
   "execution_count": 70,
   "id": "36952917",
   "metadata": {},
   "outputs": [
    {
     "name": "stdout",
     "output_type": "stream",
     "text": [
      "Using driver: ODBC Driver 18 for SQL Server\n"
     ]
    }
   ],
   "source": [
    "import os\n",
    "import pyodbc\n",
    "from sqlalchemy import create_engine\n",
    "from azure import identity\n",
    "\n",
    "# Check for available drivers\n",
    "available_drivers = pyodbc.drivers()\n",
    "preferred_driver = [\"ODBC Driver 18 for SQL Server\"]\n",
    "\n",
    "\n",
    "# # Select the first available preferred driver\n",
    "selected_driver = next((driver for driver in preferred_driver if driver in available_drivers), None)\n",
    "\n",
    "if not selected_driver:\n",
    "    raise Exception(f\"None of the preferred drivers ({preferred_driver}) are installed. Available drivers: {available_drivers}\")\n",
    "else:\n",
    "    print(f\"Using driver: {selected_driver}\")"
   ]
  },
  {
   "cell_type": "markdown",
   "id": "b062afab",
   "metadata": {},
   "source": [
    "## Confirm you can access Fabric\n",
    "\n",
    "use: az login"
   ]
  },
  {
   "cell_type": "code",
   "execution_count": 71,
   "id": "8ed168e7",
   "metadata": {},
   "outputs": [
    {
     "name": "stdout",
     "output_type": "stream",
     "text": [
      "Using warehouse: wwilakehouse_01\n"
     ]
    }
   ],
   "source": [
    "load_dotenv(override=True) \n",
    "warehouse = os.environ.get(\"FABRIC_WAREHOUSE\")\n",
    "print(f\"Using warehouse: {warehouse}\")"
   ]
  },
  {
   "cell_type": "code",
   "execution_count": 72,
   "id": "e612dc48",
   "metadata": {},
   "outputs": [],
   "source": [
    "import urllib  \n",
    "import os  \n",
    "import struct  \n",
    "from azure import identity  \n",
    "from sqlalchemy import create_engine, text  \n",
    "  \n",
    "fabric_connection_string = os.environ.get(\"FABRIC_CONNECTION_STRING\")  \n",
    "driver = \"ODBC Driver 18 for SQL Server\"  \n",
    "  \n",
    "odbc_str = (  \n",
    "    f\"Driver={{{driver}}};\"  \n",
    "    f\"Server=tcp:{fabric_connection_string},1433;\"  \n",
    "    \"Encrypt=yes;\"  \n",
    "    \"TrustServerCertificate=no;\"  \n",
    "    \"Connection Timeout=30;\"  \n",
    ")  \n",
    "  \n",
    "quoted_odbc_str = urllib.parse.quote_plus(odbc_str)  \n",
    "  \n",
    "def get_access_token():  \n",
    "    credential = identity.DefaultAzureCredential(  \n",
    "        exclude_interactive_browser_credential=False  \n",
    "    )  \n",
    "    token = credential.get_token(\"https://database.windows.net/.default\").token  \n",
    "    token_bytes = token.encode(\"UTF-16-LE\")  \n",
    "    return token_bytes  \n",
    "  \n",
    "def get_engine():  \n",
    "    token_bytes = get_access_token()  \n",
    "    token_struct = struct.pack(\"<I{}s\".format(len(token_bytes)), len(token_bytes), token_bytes)  \n",
    "    SQL_COPT_SS_ACCESS_TOKEN = 1256  # Defined by Microsoft  \n",
    "    engine = create_engine(  \n",
    "        f\"mssql+pyodbc:///?odbc_connect={quoted_odbc_str}\",  \n",
    "        connect_args={  \n",
    "            \"attrs_before\": {SQL_COPT_SS_ACCESS_TOKEN: token_struct}  \n",
    "        }  \n",
    "    )  \n",
    "    return engine  \n"
   ]
  },
  {
   "cell_type": "markdown",
   "id": "604831ae",
   "metadata": {},
   "source": [
    "## Get Tables"
   ]
  },
  {
   "cell_type": "code",
   "execution_count": 73,
   "id": "2fe7c4ce",
   "metadata": {},
   "outputs": [
    {
     "name": "stdout",
     "output_type": "stream",
     "text": [
      "<table class=\"dataframe table table-striped table-bordered\">\n",
      "  <thead>\n",
      "    <tr style=\"text-align: center;\">\n",
      "      <th>TABLE_CATALOG</th>\n",
      "      <th>TABLE_SCHEMA</th>\n",
      "      <th>TABLE_NAME</th>\n",
      "      <th>TABLE_TYPE</th>\n",
      "    </tr>\n",
      "  </thead>\n",
      "  <tbody>\n",
      "    <tr>\n",
      "      <td>wwilakehouse_01</td>\n",
      "      <td>dbo</td>\n",
      "      <td>dimension_customer</td>\n",
      "      <td>BASE TABLE</td>\n",
      "    </tr>\n",
      "  </tbody>\n",
      "</table>\n"
     ]
    }
   ],
   "source": [
    "warehouse = os.environ.get(\"FABRIC_WAREHOUSE\", \"NONE\")\n",
    "query = \"\"\"SELECT *   \n",
    "FROM [{warehouse}].INFORMATION_SCHEMA.TABLES  \n",
    "WHERE TABLE_TYPE = 'BASE TABLE';  \"\"\".format(warehouse=warehouse)\n",
    "df = pd.read_sql(query, con=get_engine())\n",
    "print(df.to_html(index=False, border=0, justify='center', classes='table table-striped table-bordered'))"
   ]
  },
  {
   "cell_type": "markdown",
   "id": "05c03ea0",
   "metadata": {},
   "source": [
    "### Get Table Schemas"
   ]
  },
  {
   "cell_type": "code",
   "execution_count": 80,
   "id": "e9fa96ca",
   "metadata": {},
   "outputs": [
    {
     "name": "stdout",
     "output_type": "stream",
     "text": [
      "Using warehouse: wwilakehouse_01, table: dimension_customer\n",
      "Query: \n",
      "SELECT COLUMN_NAME, DATA_TYPE, CHARACTER_MAXIMUM_LENGTH, IS_NULLABLE\n",
      "                FROM [wwilakehouse_01].INFORMATION_SCHEMA.COLUMNS\n",
      "                WHERE TABLE_NAME = 'dimension_customer'\n",
      "                \n",
      "<table class=\"dataframe table table-striped table-bordered\">\n",
      "  <thead>\n",
      "    <tr style=\"text-align: center;\">\n",
      "      <th>COLUMN_NAME</th>\n",
      "      <th>DATA_TYPE</th>\n",
      "      <th>CHARACTER_MAXIMUM_LENGTH</th>\n",
      "      <th>IS_NULLABLE</th>\n",
      "    </tr>\n",
      "  </thead>\n",
      "  <tbody>\n",
      "    <tr>\n",
      "      <td>CustomerKey</td>\n",
      "      <td>int</td>\n",
      "      <td>NaN</td>\n",
      "      <td>YES</td>\n",
      "    </tr>\n",
      "    <tr>\n",
      "      <td>WWICustomerID</td>\n",
      "      <td>int</td>\n",
      "      <td>NaN</td>\n",
      "      <td>YES</td>\n",
      "    </tr>\n",
      "    <tr>\n",
      "      <td>Customer</td>\n",
      "      <td>varchar</td>\n",
      "      <td>8000.0</td>\n",
      "      <td>YES</td>\n",
      "    </tr>\n",
      "    <tr>\n",
      "      <td>BillToCustomer</td>\n",
      "      <td>varchar</td>\n",
      "      <td>8000.0</td>\n",
      "      <td>YES</td>\n",
      "    </tr>\n",
      "    <tr>\n",
      "      <td>Category</td>\n",
      "      <td>varchar</td>\n",
      "      <td>8000.0</td>\n",
      "      <td>YES</td>\n",
      "    </tr>\n",
      "    <tr>\n",
      "      <td>BuyingGroup</td>\n",
      "      <td>varchar</td>\n",
      "      <td>8000.0</td>\n",
      "      <td>YES</td>\n",
      "    </tr>\n",
      "    <tr>\n",
      "      <td>PrimaryContact</td>\n",
      "      <td>varchar</td>\n",
      "      <td>8000.0</td>\n",
      "      <td>YES</td>\n",
      "    </tr>\n",
      "    <tr>\n",
      "      <td>PostalCode</td>\n",
      "      <td>varchar</td>\n",
      "      <td>8000.0</td>\n",
      "      <td>YES</td>\n",
      "    </tr>\n",
      "    <tr>\n",
      "      <td>ValidFrom</td>\n",
      "      <td>datetime2</td>\n",
      "      <td>NaN</td>\n",
      "      <td>YES</td>\n",
      "    </tr>\n",
      "    <tr>\n",
      "      <td>ValidTo</td>\n",
      "      <td>datetime2</td>\n",
      "      <td>NaN</td>\n",
      "      <td>YES</td>\n",
      "    </tr>\n",
      "    <tr>\n",
      "      <td>LineageKey</td>\n",
      "      <td>int</td>\n",
      "      <td>NaN</td>\n",
      "      <td>YES</td>\n",
      "    </tr>\n",
      "  </tbody>\n",
      "</table>\n"
     ]
    }
   ],
   "source": [
    "load_dotenv(override=True) \n",
    "warehouse = os.environ.get(\"FABRIC_WAREHOUSE\", \"NONE\")\n",
    "table = os.environ.get(\"FABRIC_TEST_TABLE\", \"NONE\")\n",
    "print(f\"Using warehouse: {warehouse}, table: {table}\")\n",
    "query = \"\"\"\n",
    "SELECT COLUMN_NAME, DATA_TYPE, CHARACTER_MAXIMUM_LENGTH, IS_NULLABLE\n",
    "                FROM [{warehouse}].INFORMATION_SCHEMA.COLUMNS\n",
    "                WHERE TABLE_NAME = '{table_name}'\n",
    "                \"\"\".format(warehouse=warehouse, table_name=table)\n",
    "\n",
    "print(f\"Query: {query}\")\n",
    "\n",
    "\n",
    "df = pd.read_sql(query, con=get_engine())\n",
    "print(df.to_html(index=False, border=0, justify='center', classes='table table-striped table-bordered'))"
   ]
  },
  {
   "cell_type": "code",
   "execution_count": null,
   "id": "5302bdbd",
   "metadata": {},
   "outputs": [],
   "source": []
  }
 ],
 "metadata": {
  "kernelspec": {
   "display_name": ".venv",
   "language": "python",
   "name": "python3"
  },
  "language_info": {
   "codemirror_mode": {
    "name": "ipython",
    "version": 3
   },
   "file_extension": ".py",
   "mimetype": "text/x-python",
   "name": "python",
   "nbconvert_exporter": "python",
   "pygments_lexer": "ipython3",
   "version": "3.11.9"
  }
 },
 "nbformat": 4,
 "nbformat_minor": 5
}
