{
 "cells": [
  {
   "cell_type": "markdown",
   "id": "fd107811",
   "metadata": {},
   "source": [
    "## Semantic Kernel Hello World\n",
    "\n",
    "This notebook is intended to ensure that Semantic Kernel is able to connect on your machine.  The .env file is very important here"
   ]
  },
  {
   "cell_type": "code",
   "execution_count": 2,
   "id": "6b2e36b6",
   "metadata": {},
   "outputs": [
    {
     "data": {
      "text/plain": [
       "'1.34.0'"
      ]
     },
     "execution_count": 2,
     "metadata": {},
     "output_type": "execute_result"
    }
   ],
   "source": [
    "# Note: if using a virtual environment, do not run this cell\n",
    "#%pip install -U semantic-kernel\n",
    "from semantic_kernel import __version__\n",
    "\n",
    "__version__"
   ]
  },
  {
   "cell_type": "code",
   "execution_count": null,
   "id": "5e5bbb3c",
   "metadata": {},
   "outputs": [],
   "source": [
    "from semantic_kernel import Kernel\n",
    "from semantic_kernel.connectors.ai.open_ai import AzureChatCompletion\n",
    "from semantic_kernel.functions import KernelArguments\n",
    "\n",
    "\n",
    "from semantic_kernel import Kernel\n",
    "from semantic_kernel.functions import kernel_function\n",
    "from semantic_kernel.connectors.ai.open_ai import AzureChatCompletion\n",
    "from semantic_kernel.connectors.ai import FunctionChoiceBehavior\n",
    "from semantic_kernel.connectors.ai.chat_completion_client_base import ChatCompletionClientBase\n",
    "from semantic_kernel.contents.chat_history import ChatHistory\n",
    "from semantic_kernel.functions.kernel_arguments import KernelArguments\n",
    "from semantic_kernel.connectors.ai.open_ai.prompt_execution_settings.azure_chat_prompt_execution_settings import (\n",
    "    AzureChatPromptExecutionSettings,\n",
    ")\n",
    "\n",
    "from semantic_kernel.contents import ChatMessageContent, TextContent, ImageContent\n",
    "from semantic_kernel.contents.utils.author_role import AuthorRole\n",
    "\n",
    "import os\n",
    "from Plugin.EmailPlugin import EmailPlugin\n"
   ]
  },
  {
   "cell_type": "code",
   "execution_count": 7,
   "id": "f70d661a",
   "metadata": {},
   "outputs": [
    {
     "data": {
      "text/plain": [
       "KernelPlugin(name='Email', description=None, functions={'send_email': KernelFunctionFromMethod(metadata=KernelFunctionMetadata(name='send_email', plugin_name='Email', description='Sends an email to a recipient.', parameters=[KernelParameterMetadata(name='recipient_emails', description=None, default_value=None, type_='str, list[str]', is_required=True, type_object=None, schema_data={'anyOf': [{'type': 'string'}, {'type': 'object'}]}, include_in_function_choices=True), KernelParameterMetadata(name='subject', description=None, default_value=None, type_='str', is_required=True, type_object=<class 'str'>, schema_data={'type': 'string'}, include_in_function_choices=True), KernelParameterMetadata(name='body', description=None, default_value=None, type_='str', is_required=True, type_object=<class 'str'>, schema_data={'type': 'string'}, include_in_function_choices=True)], is_prompt=False, is_asynchronous=True, return_parameter=KernelParameterMetadata(name='return', description='', default_value=None, type_='Any', is_required=True, type_object=None, schema_data={'type': 'object'}, include_in_function_choices=True), additional_properties={}), invocation_duration_histogram=<opentelemetry.metrics._internal.instrument._ProxyHistogram object at 0x000001490C023150>, streaming_duration_histogram=<opentelemetry.metrics._internal.instrument._ProxyHistogram object at 0x000001490C020C50>, method=<bound method EmailPlugin.send_email of <Plugin.EmailPlugin.EmailPlugin object at 0x000001490C0C1210>>, stream_method=None)})"
      ]
     },
     "execution_count": 7,
     "metadata": {},
     "output_type": "execute_result"
    }
   ],
   "source": [
    "\n",
    "kernel = Kernel()\n",
    "service_id = \"default\"\n",
    "kernel.add_service(AzureChatCompletion(service_id=service_id,),)\n",
    "kernel.add_plugin(EmailPlugin(),plugin_name=\"Email\",)\n"
   ]
  },
  {
   "cell_type": "code",
   "execution_count": 8,
   "id": "f1786c2a",
   "metadata": {},
   "outputs": [
    {
     "name": "stdout",
     "output_type": "stream",
     "text": [
      "Sure— I’d be happy to help. To get started, could you tell me a bit more about the email? For example:\n",
      "\n",
      "• What’s the main purpose (e.g. project update, request for time off, proposal, feedback)?  \n",
      "• Who’s the recipient (just your boss or a wider team)?  \n",
      "• Any key points or data you need to include?  \n",
      "• Desired tone (formal, friendly, urgent)?  \n",
      "• Are there any deadlines or attachments?  \n",
      "\n",
      "With those details, I can draft a polished email that fits your needs.\n"
     ]
    }
   ],
   "source": [
    "from semantic_kernel.connectors.ai.function_choice_behavior import FunctionChoiceBehavior\n",
    "\n",
    "\n",
    "chat_completion : AzureChatCompletion = kernel.get_service(type=ChatCompletionClientBase)\n",
    "\n",
    "# Enable planning\n",
    "execution_settings = AzureChatPromptExecutionSettings(tool_choice=\"auto\")\n",
    "execution_settings.function_choice_behavior = FunctionChoiceBehavior.Auto()\n",
    "# Create a history of the conversation\n",
    "history = ChatHistory()\n",
    "history.add_system_message(\"You are a helpful assistant.\")\n",
    "history.add_user_message(\"Can you help me write an email for my boss?\")\n",
    "\n",
    "result = (await chat_completion.get_chat_message_contents(\n",
    "        chat_history=history,\n",
    "        settings=execution_settings,\n",
    "        kernel=kernel,\n",
    "        arguments=KernelArguments(),\n",
    "    ))[0]\n",
    "print(result)\n",
    "\n",
    "\n",
    "history.add_assistant_message(str(result))\n"
   ]
  },
  {
   "cell_type": "code",
   "execution_count": 9,
   "id": "f9b23884",
   "metadata": {},
   "outputs": [
    {
     "name": "stdout",
     "output_type": "stream",
     "text": [
      "Subject: Project Atlas Status Update & Request for Feedback\n",
      "\n",
      "Hi [Boss’s Name],\n",
      "\n",
      "I hope you’re doing well. I wanted to share a quick status update on Project Atlas and get your feedback before our final push next week.\n",
      "\n",
      "1. Progress to Date  \n",
      "   • Requirements & Design – Completed walkthrough with stakeholders; finalized UI mockups.  \n",
      "   • Development – Core modules (user authentication, data import/export) are 85% complete.  \n",
      "   • Testing – Initial unit tests passed; integration testing kicks off tomorrow.  \n",
      "\n",
      "2. Outstanding Items  \n",
      "   • Performance Optimization – The batch‐processing routine is slower than expected; exploring caching strategies.  \n",
      "   • UI Polish – Need to refine error‐state messaging and button styling based on usability feedback.  \n",
      "   • Documentation – Draft of the API guide is underway; estimated 2 days to finalize.  \n",
      "\n",
      "3. Next Steps & Timeline  \n",
      "   • Complete remaining development and performance tuning by Thursday.  \n",
      "   • Finish all testing cycles and documentation by Friday.  \n",
      "   • Prepare final demo package over the weekend.  \n",
      "\n",
      "Could you please take a look and let me know:  \n",
      "   – Any concerns about the current progress or risks I should address?  \n",
      "   – Feedback on the proposed performance‐tuning approach.  \n",
      "   – Thoughts on scheduling a final stakeholder review early next week.  \n",
      "\n",
      "Our target for full delivery is next Friday, so your input by then would be greatly appreciated. If you’d like to discuss anything in detail, I’m happy to meet at your convenience.\n",
      "\n",
      "Thanks, and I look forward to your feedback!\n",
      "\n",
      "Best regards,\n",
      "[Your Name]  \n",
      "[Your Title/Department]  \n",
      "[Contact Information]\n"
     ]
    }
   ],
   "source": [
    "\n",
    "\n",
    "history.add_user_message(\"Main purpose is to inform my boss about the status of the project and ask for feedback, his email is: supercooldude.gmail.com, make up a few key points, and the deadline is next week\")\n",
    "\n",
    "result = (await chat_completion.get_chat_message_contents(\n",
    "        chat_history=history,\n",
    "      \n",
    "        settings=execution_settings,\n",
    "        kernel=kernel,\n",
    "        arguments=KernelArguments(),\n",
    "    ))[0]\n",
    "print(result)\n",
    "\n",
    "\n",
    "history.add_assistant_message(str(result))"
   ]
  },
  {
   "cell_type": "markdown",
   "id": "501ef3bc",
   "metadata": {},
   "source": []
  },
  {
   "cell_type": "code",
   "execution_count": 10,
   "id": "607f1cea",
   "metadata": {},
   "outputs": [
    {
     "name": "stdout",
     "output_type": "stream",
     "text": [
      "Email sent!\n",
      "recipient_emails:supercooldude@gmail.com\n",
      "subject:Project Atlas Status Update & Request for Feedback\n",
      "body:Hi [Boss’s Name],\n",
      "\n",
      "I hope you’re doing well. I wanted to share a quick status update on Project Atlas and get your feedback before our final push next week.\n",
      "\n",
      "1. Progress to Date\n",
      "   • Requirements & Design – Completed walkthrough with stakeholders; finalized UI mockups.\n",
      "   • Development – Core modules (user authentication, data import/export) are 85% complete.\n",
      "   • Testing – Initial unit tests passed; integration testing kicks off tomorrow.\n",
      "\n",
      "2. Outstanding Items\n",
      "   • Performance Optimization – The batch‐processing routine is slower than expected; exploring caching strategies.\n",
      "   • UI Polish – Need to refine error‐state messaging and button styling based on usability feedback.\n",
      "   • Documentation – Draft of the API guide is underway; estimated 2 days to finalize.\n",
      "\n",
      "3. Next Steps & Timeline\n",
      "   • Complete remaining development and performance tuning by Thursday.\n",
      "   • Finish all testing cycles and documentation by Friday.\n",
      "   • Prepare final demo package over the weekend.\n",
      "\n",
      "Could you please take a look and let me know:\n",
      "   – Any concerns about the current progress or risks I should address?\n",
      "   – Feedback on the proposed performance‐tuning approach.\n",
      "   – Thoughts on scheduling a final stakeholder review early next week.\n",
      "\n",
      "Our target for full delivery is next Friday, so your input by then would be greatly appreciated. If you’d like to discuss anything in detail, I’m happy to meet at your convenience.\n",
      "\n",
      "Thanks, and I look forward to your feedback!\n",
      "\n",
      "Best regards,\n",
      "[Your Name]\n",
      "[Your Title/Department]\n",
      "[Contact Information]\n",
      "Your email has been sent! Let me know if there’s anything else I can help with.\n"
     ]
    }
   ],
   "source": [
    "history.add_user_message(\"Great - send it.\")\n",
    "\n",
    "result = (await chat_completion.get_chat_message_contents(\n",
    "        chat_history=history,\n",
    "      \n",
    "        settings=execution_settings,\n",
    "        kernel=kernel,\n",
    "        arguments=KernelArguments(),\n",
    "    ))[0]\n",
    "print(result)\n",
    "\n",
    "history.add_assistant_message(str(result))"
   ]
  },
  {
   "cell_type": "markdown",
   "id": "5f525e98",
   "metadata": {},
   "source": [
    "## Moving on...\n",
    "\n",
    "We can ask for a joke. AKA - not limited in scope"
   ]
  },
  {
   "cell_type": "code",
   "execution_count": 11,
   "id": "ac980160",
   "metadata": {},
   "outputs": [
    {
     "name": "stdout",
     "output_type": "stream",
     "text": [
      "Why don’t programmers like nature?  \n",
      "Because it has too many bugs! 😄\n"
     ]
    }
   ],
   "source": [
    "history.add_user_message(\"tell me a joke\")\n",
    "\n",
    "result = (await chat_completion.get_chat_message_contents(\n",
    "        chat_history=history,\n",
    "      \n",
    "        settings=execution_settings,\n",
    "        kernel=kernel,\n",
    "        arguments=KernelArguments(),\n",
    "    ))[0]\n",
    "print(result)\n",
    "history.add_assistant_message(str(result))"
   ]
  },
  {
   "cell_type": "markdown",
   "id": "60e096ca",
   "metadata": {},
   "source": [
    "## Let's Review"
   ]
  },
  {
   "cell_type": "code",
   "execution_count": 16,
   "id": "dc38c4cf",
   "metadata": {},
   "outputs": [
    {
     "data": {
      "text/markdown": [
       "---"
      ],
      "text/plain": [
       "<IPython.core.display.Markdown object>"
      ]
     },
     "metadata": {},
     "output_type": "display_data"
    },
    {
     "name": "stdout",
     "output_type": "stream",
     "text": [
      "system:You are a helpful assistant.\n"
     ]
    },
    {
     "data": {
      "text/markdown": [
       "AuthorRole.SYSTEM: You are a helpful assistant."
      ],
      "text/plain": [
       "<IPython.core.display.Markdown object>"
      ]
     },
     "metadata": {},
     "output_type": "display_data"
    },
    {
     "data": {
      "text/markdown": [
       "---"
      ],
      "text/plain": [
       "<IPython.core.display.Markdown object>"
      ]
     },
     "metadata": {},
     "output_type": "display_data"
    },
    {
     "name": "stdout",
     "output_type": "stream",
     "text": [
      "user:Can you help me write an email for my boss?\n"
     ]
    },
    {
     "data": {
      "text/markdown": [
       "AuthorRole.USER: Can you help me write an email for my boss?"
      ],
      "text/plain": [
       "<IPython.core.display.Markdown object>"
      ]
     },
     "metadata": {},
     "output_type": "display_data"
    },
    {
     "data": {
      "text/markdown": [
       "---"
      ],
      "text/plain": [
       "<IPython.core.display.Markdown object>"
      ]
     },
     "metadata": {},
     "output_type": "display_data"
    },
    {
     "name": "stdout",
     "output_type": "stream",
     "text": [
      "assistant:Sure— I’d be happy to help. To get started, could you tell me a bit more about the email? For example:\n",
      "\n",
      "• What’s the main purpose (e.g. project update, request for time off, proposal, feedback)?  \n",
      "• Who’s the recipient (just your boss or a wider team)?  \n",
      "• Any key points or data you need to include?  \n",
      "• Desired tone (formal, friendly, urgent)?  \n",
      "• Are there any deadlines or attachments?  \n",
      "\n",
      "With those details, I can draft a polished email that fits your needs.\n"
     ]
    },
    {
     "data": {
      "text/markdown": [
       "AuthorRole.ASSISTANT: Sure— I’d be happy to help. To get started, could you tell me a bit more about the email? For example:\n",
       "\n",
       "• What’s the main purpose (e.g. project update, request for time off, proposal, feedback)?  \n",
       "• Who’s the recipient (just your boss or a wider team)?  \n",
       "• Any key points or data you need to include?  \n",
       "• Desired tone (formal, friendly, urgent)?  \n",
       "• Are there any deadlines or attachments?  \n",
       "\n",
       "With those details, I can draft a polished email that fits your needs."
      ],
      "text/plain": [
       "<IPython.core.display.Markdown object>"
      ]
     },
     "metadata": {},
     "output_type": "display_data"
    },
    {
     "data": {
      "text/markdown": [
       "---"
      ],
      "text/plain": [
       "<IPython.core.display.Markdown object>"
      ]
     },
     "metadata": {},
     "output_type": "display_data"
    },
    {
     "name": "stdout",
     "output_type": "stream",
     "text": [
      "user:Main purpose is to inform my boss about the status of the project and ask for feedback, his email is: supercooldude.gmail.com, make up a few key points, and the deadline is next week\n"
     ]
    },
    {
     "data": {
      "text/markdown": [
       "AuthorRole.USER: Main purpose is to inform my boss about the status of the project and ask for feedback, his email is: supercooldude.gmail.com, make up a few key points, and the deadline is next week"
      ],
      "text/plain": [
       "<IPython.core.display.Markdown object>"
      ]
     },
     "metadata": {},
     "output_type": "display_data"
    },
    {
     "data": {
      "text/markdown": [
       "---"
      ],
      "text/plain": [
       "<IPython.core.display.Markdown object>"
      ]
     },
     "metadata": {},
     "output_type": "display_data"
    },
    {
     "name": "stdout",
     "output_type": "stream",
     "text": [
      "assistant:Subject: Project Atlas Status Update & Request for Feedback\n",
      "\n",
      "Hi [Boss’s Name],\n",
      "\n",
      "I hope you’re doing well. I wanted to share a quick status update on Project Atlas and get your feedback before our final push next week.\n",
      "\n",
      "1. Progress to Date  \n",
      "   • Requirements & Design – Completed walkthrough with stakeholders; finalized UI mockups.  \n",
      "   • Development – Core modules (user authentication, data import/export) are 85% complete.  \n",
      "   • Testing – Initial unit tests passed; integration testing kicks off tomorrow.  \n",
      "\n",
      "2. Outstanding Items  \n",
      "   • Performance Optimization – The batch‐processing routine is slower than expected; exploring caching strategies.  \n",
      "   • UI Polish – Need to refine error‐state messaging and button styling based on usability feedback.  \n",
      "   • Documentation – Draft of the API guide is underway; estimated 2 days to finalize.  \n",
      "\n",
      "3. Next Steps & Timeline  \n",
      "   • Complete remaining development and performance tuning by Thursday.  \n",
      "   • Finish all testing cycles and documentation by Friday.  \n",
      "   • Prepare final demo package over the weekend.  \n",
      "\n",
      "Could you please take a look and let me know:  \n",
      "   – Any concerns about the current progress or risks I should address?  \n",
      "   – Feedback on the proposed performance‐tuning approach.  \n",
      "   – Thoughts on scheduling a final stakeholder review early next week.  \n",
      "\n",
      "Our target for full delivery is next Friday, so your input by then would be greatly appreciated. If you’d like to discuss anything in detail, I’m happy to meet at your convenience.\n",
      "\n",
      "Thanks, and I look forward to your feedback!\n",
      "\n",
      "Best regards,\n",
      "[Your Name]  \n",
      "[Your Title/Department]  \n",
      "[Contact Information]\n"
     ]
    },
    {
     "data": {
      "text/markdown": [
       "AuthorRole.ASSISTANT: Subject: Project Atlas Status Update & Request for Feedback\n",
       "\n",
       "Hi [Boss’s Name],\n",
       "\n",
       "I hope you’re doing well. I wanted to share a quick status update on Project Atlas and get your feedback before our final push next week.\n",
       "\n",
       "1. Progress to Date  \n",
       "   • Requirements & Design – Completed walkthrough with stakeholders; finalized UI mockups.  \n",
       "   • Development – Core modules (user authentication, data import/export) are 85% complete.  \n",
       "   • Testing – Initial unit tests passed; integration testing kicks off tomorrow.  \n",
       "\n",
       "2. Outstanding Items  \n",
       "   • Performance Optimization – The batch‐processing routine is slower than expected; exploring caching strategies.  \n",
       "   • UI Polish – Need to refine error‐state messaging and button styling based on usability feedback.  \n",
       "   • Documentation – Draft of the API guide is underway; estimated 2 days to finalize.  \n",
       "\n",
       "3. Next Steps & Timeline  \n",
       "   • Complete remaining development and performance tuning by Thursday.  \n",
       "   • Finish all testing cycles and documentation by Friday.  \n",
       "   • Prepare final demo package over the weekend.  \n",
       "\n",
       "Could you please take a look and let me know:  \n",
       "   – Any concerns about the current progress or risks I should address?  \n",
       "   – Feedback on the proposed performance‐tuning approach.  \n",
       "   – Thoughts on scheduling a final stakeholder review early next week.  \n",
       "\n",
       "Our target for full delivery is next Friday, so your input by then would be greatly appreciated. If you’d like to discuss anything in detail, I’m happy to meet at your convenience.\n",
       "\n",
       "Thanks, and I look forward to your feedback!\n",
       "\n",
       "Best regards,\n",
       "[Your Name]  \n",
       "[Your Title/Department]  \n",
       "[Contact Information]"
      ],
      "text/plain": [
       "<IPython.core.display.Markdown object>"
      ]
     },
     "metadata": {},
     "output_type": "display_data"
    },
    {
     "data": {
      "text/markdown": [
       "---"
      ],
      "text/plain": [
       "<IPython.core.display.Markdown object>"
      ]
     },
     "metadata": {},
     "output_type": "display_data"
    },
    {
     "name": "stdout",
     "output_type": "stream",
     "text": [
      "user:Great - send it.\n"
     ]
    },
    {
     "data": {
      "text/markdown": [
       "AuthorRole.USER: Great - send it."
      ],
      "text/plain": [
       "<IPython.core.display.Markdown object>"
      ]
     },
     "metadata": {},
     "output_type": "display_data"
    },
    {
     "data": {
      "text/markdown": [
       "---"
      ],
      "text/plain": [
       "<IPython.core.display.Markdown object>"
      ]
     },
     "metadata": {},
     "output_type": "display_data"
    },
    {
     "name": "stdout",
     "output_type": "stream",
     "text": [
      "assistant:\n"
     ]
    },
    {
     "data": {
      "text/markdown": [
       "AuthorRole.ASSISTANT: "
      ],
      "text/plain": [
       "<IPython.core.display.Markdown object>"
      ]
     },
     "metadata": {},
     "output_type": "display_data"
    },
    {
     "data": {
      "text/markdown": [
       "---"
      ],
      "text/plain": [
       "<IPython.core.display.Markdown object>"
      ]
     },
     "metadata": {},
     "output_type": "display_data"
    },
    {
     "name": "stdout",
     "output_type": "stream",
     "text": [
      "tool:\n"
     ]
    },
    {
     "data": {
      "text/markdown": [
       "AuthorRole.TOOL: "
      ],
      "text/plain": [
       "<IPython.core.display.Markdown object>"
      ]
     },
     "metadata": {},
     "output_type": "display_data"
    },
    {
     "data": {
      "text/markdown": [
       "---"
      ],
      "text/plain": [
       "<IPython.core.display.Markdown object>"
      ]
     },
     "metadata": {},
     "output_type": "display_data"
    },
    {
     "name": "stdout",
     "output_type": "stream",
     "text": [
      "assistant:Your email has been sent! Let me know if there’s anything else I can help with.\n"
     ]
    },
    {
     "data": {
      "text/markdown": [
       "AuthorRole.ASSISTANT: Your email has been sent! Let me know if there’s anything else I can help with."
      ],
      "text/plain": [
       "<IPython.core.display.Markdown object>"
      ]
     },
     "metadata": {},
     "output_type": "display_data"
    },
    {
     "data": {
      "text/markdown": [
       "---"
      ],
      "text/plain": [
       "<IPython.core.display.Markdown object>"
      ]
     },
     "metadata": {},
     "output_type": "display_data"
    },
    {
     "name": "stdout",
     "output_type": "stream",
     "text": [
      "user:tell me a joke\n"
     ]
    },
    {
     "data": {
      "text/markdown": [
       "AuthorRole.USER: tell me a joke"
      ],
      "text/plain": [
       "<IPython.core.display.Markdown object>"
      ]
     },
     "metadata": {},
     "output_type": "display_data"
    },
    {
     "data": {
      "text/markdown": [
       "---"
      ],
      "text/plain": [
       "<IPython.core.display.Markdown object>"
      ]
     },
     "metadata": {},
     "output_type": "display_data"
    },
    {
     "name": "stdout",
     "output_type": "stream",
     "text": [
      "assistant:Why don’t programmers like nature?  \n",
      "Because it has too many bugs! 😄\n"
     ]
    },
    {
     "data": {
      "text/markdown": [
       "AuthorRole.ASSISTANT: Why don’t programmers like nature?  \n",
       "Because it has too many bugs! 😄"
      ],
      "text/plain": [
       "<IPython.core.display.Markdown object>"
      ]
     },
     "metadata": {},
     "output_type": "display_data"
    }
   ],
   "source": [
    "import json\n",
    "from IPython.display import display, Markdown\n",
    "\n",
    "for msg in history.messages:\n",
    "    display(Markdown('---'))\n",
    "    print(msg.role + \":\" + msg.content)\n",
    "    markdown_text = f\"{msg.role}: {msg.content}\"\n",
    "    display(Markdown(markdown_text))"
   ]
  },
  {
   "cell_type": "code",
   "execution_count": null,
   "id": "210ab399",
   "metadata": {},
   "outputs": [],
   "source": []
  }
 ],
 "metadata": {
  "kernelspec": {
   "display_name": ".venv",
   "language": "python",
   "name": "python3"
  },
  "language_info": {
   "codemirror_mode": {
    "name": "ipython",
    "version": 3
   },
   "file_extension": ".py",
   "mimetype": "text/x-python",
   "name": "python",
   "nbconvert_exporter": "python",
   "pygments_lexer": "ipython3",
   "version": "3.11.9"
  }
 },
 "nbformat": 4,
 "nbformat_minor": 5
}
