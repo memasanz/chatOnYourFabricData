{
 "cells": [
  {
   "cell_type": "markdown",
   "id": "d58e2b82",
   "metadata": {},
   "source": [
    "# Azure AI Foundry Agent Service\n",
    "\n",
    "\n",
    "\n",
    "https://learn.microsoft.com/en-us/azure/ai-foundry/agents/overview\n",
    "\n",
    "https://learn.microsoft.com/en-us/python/api/overview/azure/ai-agents-readme?view=azure-python\n",
    "\n",
    "## Data Agent Connector\n",
    "\n",
    "https://learn.microsoft.com/en-us/fabric/data-science/how-to-consume-data-agent\n",
    "\n",
    "https://learn.microsoft.com/en-us/azure/ai-foundry/agents/how-totools/fabric?pivots=rest"
   ]
  },
  {
   "cell_type": "markdown",
   "id": "43b6fce9",
   "metadata": {},
   "source": []
  },
  {
   "cell_type": "code",
   "execution_count": 4,
   "id": "4de0a4e4",
   "metadata": {},
   "outputs": [
    {
     "data": {
      "text/plain": [
       "True"
      ]
     },
     "execution_count": 4,
     "metadata": {},
     "output_type": "execute_result"
    }
   ],
   "source": [
    "import os\n",
    "from azure.ai.projects import AIProjectClient\n",
    "from azure.identity import DefaultAzureCredential\n",
    "from azure.ai.agents.models import FabricTool, ListSortOrder\n",
    "from dotenv import load_dotenv  \n",
    "\n",
    "load_dotenv(override=True) "
   ]
  },
  {
   "cell_type": "code",
   "execution_count": 5,
   "id": "4a9d53c9",
   "metadata": {},
   "outputs": [],
   "source": [
    "system_message = \"\"\"You are a helpful agent that can query data from a SQL database using the Fabric tool.\"\"\"\n",
    "conn_id = os.environ[\"AZURE_FABRIC_CONNECTION_ID\"]\n",
    "\n",
    "# Initialize agent Fabric tool and add the connection ID\n",
    "fabric = FabricTool(connection_id=conn_id)\n",
    "\n",
    "# Retrieve the project endpoint from environment variables\n",
    "project_endpoint = os.environ[\"PROJECT_ENDPOINT\"]\n",
    "\n",
    "# Initialize the AIProjectClient\n",
    "project_client = AIProjectClient(\n",
    "    endpoint=project_endpoint,\n",
    "    credential=DefaultAzureCredential(),\n",
    ")\n"
   ]
  },
  {
   "cell_type": "code",
   "execution_count": 6,
   "id": "e0d4e356",
   "metadata": {},
   "outputs": [
    {
     "name": "stdout",
     "output_type": "stream",
     "text": [
      "Agent 'AIFoundryDataAgent' already exists, ID: asst_zj5mEkm9wYHsiHyfpYWovIrz\n"
     ]
    }
   ],
   "source": [
    "agent_name = os.environ[\"AZURE_AI_FABRIC_AGENT_NAME\"]\n",
    "agent_list = project_client.agents.list_agents()\n",
    "\n",
    "agent = None\n",
    "if agent_list:\n",
    "    for agent_object in agent_list:\n",
    "        if agent_object.name == agent_name:\n",
    "            agent = agent_object\n",
    "\n",
    "if not agent:\n",
    "    print(f\"Agent '{agent_name}' not found in the project.\")\n",
    "    agent = project_client.agents.create_agent(\n",
    "        model=os.environ[\"AZURE_OPENAI_CHAT_DEPLOYMENT_NAME\"],\n",
    "        name=agent_name,\n",
    "        tools=fabric.definitions,\n",
    "        instructions=system_message,\n",
    "        headers={\"x-ms-enable-preview\": \"true\"},\n",
    "    )\n",
    "    print(f\"Created agent, ID: {agent.id}\")\n",
    "else:\n",
    "    print(f\"Agent '{agent_name}' already exists, ID: {agent.id}\")"
   ]
  },
  {
   "cell_type": "code",
   "execution_count": 7,
   "id": "ae3da17d",
   "metadata": {},
   "outputs": [
    {
     "name": "stdout",
     "output_type": "stream",
     "text": [
      "Created thread, ID: thread_BqA4HRExmKuHNFPHM2svo73k\n",
      "Created message, ID: msg_k1sK1Lh2a8UEQew2lgxYmjNl\n"
     ]
    }
   ],
   "source": [
    "# Create a thread for communication\n",
    "thread = project_client.agents.threads.create()\n",
    "print(f\"Created thread, ID: {thread.id}\")\n",
    "\n",
    "# Send a message to the thread\n",
    "message = project_client.agents.messages.create(\n",
    "    thread_id=thread.id,\n",
    "    role=\"user\",\n",
    "    content=\"What are the tables in the warehoues?\",\n",
    ")\n",
    "print(f\"Created message, ID: {message['id']}\")"
   ]
  },
  {
   "cell_type": "code",
   "execution_count": 8,
   "id": "05155fec",
   "metadata": {},
   "outputs": [
    {
     "name": "stdout",
     "output_type": "stream",
     "text": [
      "Run finished with status: RunStatus.COMPLETED\n",
      "agent name = AIFoundryDataAgent\n",
      "agent id: asst_zj5mEkm9wYHsiHyfpYWovIrz\n",
      "run idrun_q0fHc46eGs48eGGXegHL8wXX\n"
     ]
    }
   ],
   "source": [
    "run = project_client.agents.runs.create_and_process(thread_id=thread.id, agent_id=agent.id)\n",
    "print(f\"Run finished with status: {run.status}\")\n",
    "\n",
    "print(\"agent name = \" + agent.name)\n",
    "print(\"agent id: \" + agent.id)\n",
    "print(\"run id\" + run.id)"
   ]
  },
  {
   "cell_type": "code",
   "execution_count": null,
   "id": "46253e6d",
   "metadata": {},
   "outputs": [],
   "source": [
    "if run.status == \"failed\":\n",
    "        print(f\"Run failed: {run.last_error}\")\n",
    "    \n",
    "# Fetch and log all messages\n",
    "messages = project_client.agents.messages.list(thread_id=thread.id)\n",
    "for message in messages:\n",
    "    print(f\"Role: {message.role}, Content: {message.content}\")\n",
    "\n",
    "run_steps = project_client.agents.run_steps.list(thread_id=thread.id, run_id=run.id)\n",
    "for step in run_steps:\n",
    "        # print(f\"Step {step['id']} status: {step['status']}\")\n",
    "        step_details = step.get(\"step_details\", {})\n",
    "        tool_calls = step_details.get(\"tool_calls\", [])\n",
    "\n",
    "        if tool_calls:\n",
    "            print(\"  Tool calls:\")\n",
    "            for call in tool_calls:\n",
    "                print(call)\n",
    "                print(f\"    Tool Call ID: {call.get('id')}\")\n",
    "                print(f\"    Type: {call.get('type')}\")\n",
    "\n",
    "              "
   ]
  },
  {
   "cell_type": "markdown",
   "id": "ab37603b",
   "metadata": {},
   "source": []
  },
  {
   "cell_type": "code",
   "execution_count": null,
   "id": "d7c69e73",
   "metadata": {},
   "outputs": [],
   "source": [
    "message = project_client.agents.messages.create(\n",
    "        thread_id=thread.id,\n",
    "        role=\"user\",  # Role of the message sender\n",
    "        content=\"what are 10 common zip codes\",  # Message content\n",
    "    )"
   ]
  },
  {
   "cell_type": "code",
   "execution_count": null,
   "id": "c4f12528",
   "metadata": {},
   "outputs": [],
   "source": [
    "run = project_client.agents.runs.create_and_process(thread_id=thread.id, agent_id=agent.id)\n",
    "print(f\"Run finished with status: {run.status}\")\n",
    "\n",
    "print(agent.name)\n",
    "print(agent.id)"
   ]
  },
  {
   "cell_type": "code",
   "execution_count": null,
   "id": "7d374990",
   "metadata": {},
   "outputs": [],
   "source": [
    "if run.status == \"failed\":\n",
    "        print(f\"Run failed: {run.last_error}\")\n",
    "    \n",
    "# Fetch and log all messages\n",
    "messages = project_client.agents.messages.list(thread_id=thread.id)\n",
    "for message in messages:\n",
    "    print(f\"Role: {message.role}, Content: {message.content}\")\n",
    "\n",
    "run_steps = project_client.agents.run_steps.list(thread_id=thread.id, run_id=run.id)\n",
    "for step in run_steps:\n",
    "        # print(f\"Step {step['id']} status: {step['status']}\")\n",
    "        step_details = step.get(\"step_details\", {})\n",
    "        tool_calls = step_details.get(\"tool_calls\", [])\n",
    "\n",
    "        if tool_calls:\n",
    "            print(\"  Tool calls:\")\n",
    "            for call in tool_calls:\n",
    "                print(call)\n",
    "                print(f\"    Tool Call ID: {call.get('id')}\")\n",
    "                print(f\"    Type: {call.get('type')}\")\n",
    "\n",
    "              "
   ]
  },
  {
   "cell_type": "code",
   "execution_count": null,
   "id": "0f05d4f4",
   "metadata": {},
   "outputs": [],
   "source": []
  }
 ],
 "metadata": {
  "kernelspec": {
   "display_name": ".venv",
   "language": "python",
   "name": "python3"
  },
  "language_info": {
   "codemirror_mode": {
    "name": "ipython",
    "version": 3
   },
   "file_extension": ".py",
   "mimetype": "text/x-python",
   "name": "python",
   "nbconvert_exporter": "python",
   "pygments_lexer": "ipython3",
   "version": "3.11.9"
  }
 },
 "nbformat": 4,
 "nbformat_minor": 5
}
