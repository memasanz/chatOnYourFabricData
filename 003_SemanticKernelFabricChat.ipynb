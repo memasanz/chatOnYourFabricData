{
 "cells": [
  {
   "cell_type": "markdown",
   "id": "6109669a",
   "metadata": {},
   "source": [
    "## Semantic Kernel with Fabric SQL Endpoint\n",
    "\n",
    "- Leverage Semantic Kernel with your SQL Endpoint\n",
    "- Would be great to include a tool with sample query statements\n",
    "- Setup your .env file \n",
    "- Need **ODBC Driver 18 for SQL Server**\n",
    "\n",
    "\n",
    "### Sample .env file:\n",
    "\n",
    "```\n",
    "FABRIC_CONNECTION_STRING=GETTHISFROMINFABRIC.datawarehouse.fabric.microsoft.com\n",
    "FABRIC_WAREHOUSE=GETTHISFROMINFABRIC\n",
    "FABRIC_TEST_TABLE=GETTHISFROMINFABRIC\n",
    "\n",
    "GLOBAL_LLM_SERVICE=\"AzureOpenAI\"\n",
    "AZURE_OPENAI_API_KEY=\"PUTYOURKEYHERE\"\n",
    "AZURE_OPENAI_ENDPOINT=\"https://INFOUNDRY.openai.azure.com/\"\n",
    "AZURE_OPENAI_CHAT_DEPLOYMENT_NAME=\"gpt-4.1\"\n",
    "AZURE_OPENAI_TEXT_DEPLOYMENT_NAME=\"gpt-4.1\"\n",
    "AZURE_OPENAI_EMBEDDING_DEPLOYMENT_NAME=\"text-embedding-3-large\"\n",
    "AZURE_OPENAI_API_VERSION=\"2024-12-01-preview\"\n",
    "##Semantic Kernel Settings:\n",
    "AZURE_AISEARCH_API_KEY=\"\"\n",
    "AZURE_AISEARCH_URL=\"\"\n",
    "```"
   ]
  },
  {
   "cell_type": "code",
   "execution_count": 7,
   "id": "f03c8f31",
   "metadata": {},
   "outputs": [
    {
     "data": {
      "text/plain": [
       "'1.34.0'"
      ]
     },
     "execution_count": 7,
     "metadata": {},
     "output_type": "execute_result"
    }
   ],
   "source": [
    "# Note: if using a virtual environment, do not run this cell\n",
    "#%pip install -U semantic-kernel\n",
    "from semantic_kernel import __version__\n",
    "\n",
    "__version__\n"
   ]
  },
  {
   "cell_type": "code",
   "execution_count": null,
   "id": "846d4b06",
   "metadata": {},
   "outputs": [],
   "source": [
    "#from services import Service\n",
    "from semantic_kernel import Kernel\n",
    "from semantic_kernel.connectors.ai.open_ai import AzureChatCompletion\n",
    "from semantic_kernel.functions import KernelArguments\n",
    "\n",
    "\n",
    "from semantic_kernel import Kernel\n",
    "from semantic_kernel.functions import kernel_function\n",
    "from semantic_kernel.connectors.ai.open_ai import AzureChatCompletion\n",
    "from semantic_kernel.connectors.ai import FunctionChoiceBehavior\n",
    "from semantic_kernel.connectors.ai.chat_completion_client_base import ChatCompletionClientBase\n",
    "from semantic_kernel.contents.chat_history import ChatHistory\n",
    "from semantic_kernel.functions.kernel_arguments import KernelArguments\n",
    "from semantic_kernel.connectors.ai.open_ai.prompt_execution_settings.azure_chat_prompt_execution_settings import (\n",
    "    AzureChatPromptExecutionSettings,\n",
    ")\n",
    "\n",
    "from semantic_kernel.contents import ChatMessageContent, TextContent, ImageContent\n",
    "from semantic_kernel.contents.utils.author_role import AuthorRole\n",
    "\n",
    "import os\n",
    "from Plugin.FabricSQLPlugin import FabricSQLPlugin\n"
   ]
  },
  {
   "cell_type": "markdown",
   "id": "103ea21a",
   "metadata": {},
   "source": []
  },
  {
   "cell_type": "code",
   "execution_count": null,
   "id": "0141e84a",
   "metadata": {},
   "outputs": [
    {
     "data": {
      "text/plain": [
       "KernelPlugin(name='FabricSQL', description=None, functions={'execute_sql': KernelFunctionFromMethod(metadata=KernelFunctionMetadata(name='execute_sql', plugin_name='FabricSQL', description=\"\\n                     With a SELECT statement using fully qualified name: database.dbo.table,  \\n                     An Example query woudl be: 'SELECT TOP 10 PostalCode FROM [warehouse].[dbo].[dimension_customer];'\\n                     query the database, and return the results as an HTML table\\n                     \", parameters=[KernelParameterMetadata(name='warehouse', description=None, default_value=None, type_='str', is_required=True, type_object=<class 'str'>, schema_data={'type': 'string'}, include_in_function_choices=True), KernelParameterMetadata(name='sql_query', description=None, default_value=None, type_='str', is_required=True, type_object=<class 'str'>, schema_data={'type': 'string'}, include_in_function_choices=True)], is_prompt=False, is_asynchronous=False, return_parameter=KernelParameterMetadata(name='return', description='The output is an HTML table', default_value=None, type_='str', is_required=True, type_object=<class 'str'>, schema_data={'type': 'string', 'description': 'The output is an HTML table'}, include_in_function_choices=True), additional_properties={}), invocation_duration_histogram=<opentelemetry.metrics._internal.instrument._ProxyHistogram object at 0x000001DECD4CE050>, streaming_duration_histogram=<opentelemetry.metrics._internal.instrument._ProxyHistogram object at 0x000001DECD4CD090>, method=<bound method FabricSQLPlugin.execute_sql of <Plugin.FabricSQLPlugin.FabricSQLPlugin object at 0x000001DECD3EBD10>>, stream_method=None), 'get_table_names': KernelFunctionFromMethod(metadata=KernelFunctionMetadata(name='get_table_names', plugin_name='FabricSQL', description='Get the names of all tables in the database', parameters=[], is_prompt=False, is_asynchronous=False, return_parameter=KernelParameterMetadata(name='return', description='The output is an HTML table', default_value=None, type_='str', is_required=True, type_object=<class 'str'>, schema_data={'type': 'string', 'description': 'The output is an HTML table'}, include_in_function_choices=True), additional_properties={}), invocation_duration_histogram=<opentelemetry.metrics._internal.instrument._ProxyHistogram object at 0x000001DECD4CF250>, streaming_duration_histogram=<opentelemetry.metrics._internal.instrument._ProxyHistogram object at 0x000001DECD4CD350>, method=<bound method FabricSQLPlugin.get_table_names of <Plugin.FabricSQLPlugin.FabricSQLPlugin object at 0x000001DECD3EBD10>>, stream_method=None), 'get_table_schema': KernelFunctionFromMethod(metadata=KernelFunctionMetadata(name='get_table_schema', plugin_name='FabricSQL', description='Get schema for a table to assist in writing SQL queries', parameters=[KernelParameterMetadata(name='table_name', description=None, default_value=None, type_='str', is_required=True, type_object=<class 'str'>, schema_data={'type': 'string'}, include_in_function_choices=True)], is_prompt=False, is_asynchronous=False, return_parameter=KernelParameterMetadata(name='return', description='The output is an HTML table', default_value=None, type_='str', is_required=True, type_object=<class 'str'>, schema_data={'type': 'string', 'description': 'The output is an HTML table'}, include_in_function_choices=True), additional_properties={}), invocation_duration_histogram=<opentelemetry.metrics._internal.instrument._ProxyHistogram object at 0x000001DECD4CE090>, streaming_duration_histogram=<opentelemetry.metrics._internal.instrument._ProxyHistogram object at 0x000001DECD4CD610>, method=<bound method FabricSQLPlugin.get_table_schema of <Plugin.FabricSQLPlugin.FabricSQLPlugin object at 0x000001DECD3EBD10>>, stream_method=None), 'get_warehouse': KernelFunctionFromMethod(metadata=KernelFunctionMetadata(name='get_warehouse', plugin_name='FabricSQL', description='Get the names of the fabric warehouse', parameters=[], is_prompt=False, is_asynchronous=False, return_parameter=KernelParameterMetadata(name='return', description='The output is string, to be used in SQL queries', default_value=None, type_='str', is_required=True, type_object=<class 'str'>, schema_data={'type': 'string', 'description': 'The output is string, to be used in SQL queries'}, include_in_function_choices=True), additional_properties={}), invocation_duration_histogram=<opentelemetry.metrics._internal.instrument._ProxyHistogram object at 0x000001DECD4CE4D0>, streaming_duration_histogram=<opentelemetry.metrics._internal.instrument._ProxyHistogram object at 0x000001DECD4CDA90>, method=<bound method FabricSQLPlugin.get_warehouse of <Plugin.FabricSQLPlugin.FabricSQLPlugin object at 0x000001DECD3EBD10>>, stream_method=None)})"
      ]
     },
     "execution_count": 9,
     "metadata": {},
     "output_type": "execute_result"
    }
   ],
   "source": [
    "\n",
    "kernel = Kernel()\n",
    "service_id = \"default\"\n",
    "kernel.remove_all_services()\n",
    "kernel.add_service(AzureChatCompletion(service_id=service_id,),)\n",
    "kernel.add_plugin(FabricSQLPlugin(),plugin_name=\"FabricSQL\",)"
   ]
  },
  {
   "cell_type": "code",
   "execution_count": 10,
   "id": "9e5e3620",
   "metadata": {},
   "outputs": [],
   "source": [
    "system_message = \"\"\"\n",
    "You are a Fabric SQL expert.  You have tools to explore the database by getting tables, getting the schema and executing SQL select statements.\n",
    "Explore the schema of tables to create sql to answer the questions asked.\n",
    "You can ask clarifying questions if needed.\n",
    "\n",
    "You have information regarding World Wide Importers Customer Profiles from a Fabric SQL Endpoint\n",
    "To Write Valid SQL - you must use the Fully Qualifed Name [warehouse].[schema].[table] in ALL SQL queries.\n",
    "\n",
    "You do have a tool to determine what the warehouse is, what tables are available, and what their schema is.\n",
    "The correct schema will be required for any joins you do on the data to answer complex questions.\n",
    "\"\"\""
   ]
  },
  {
   "cell_type": "code",
   "execution_count": 11,
   "id": "c0872811",
   "metadata": {},
   "outputs": [
    {
     "name": "stdout",
     "output_type": "stream",
     "text": [
      "The schema of the 'dimension_customer' table is as follows:\n",
      "\n",
      "- CustomerKey (int, nullable)\n",
      "- WWICustomerID (int, nullable)\n",
      "- Customer (varchar(8000), nullable)\n",
      "- BillToCustomer (varchar(8000), nullable)\n",
      "- Category (varchar(8000), nullable)\n",
      "- BuyingGroup (varchar(8000), nullable)\n",
      "- PrimaryContact (varchar(8000), nullable)\n",
      "- PostalCode (varchar(8000), nullable)\n",
      "- ValidFrom (datetime2, nullable)\n",
      "- ValidTo (datetime2, nullable)\n",
      "- LineageKey (int, nullable)\n",
      "\n",
      "If you want information from any specific columns or a sample of the data, let me know!\n"
     ]
    }
   ],
   "source": [
    "from semantic_kernel.connectors.ai.function_choice_behavior import FunctionChoiceBehavior\n",
    "\n",
    "\n",
    "chat_completion : AzureChatCompletion = kernel.get_service(type=ChatCompletionClientBase)\n",
    "\n",
    "# Enable planning\n",
    "execution_settings = AzureChatPromptExecutionSettings(tool_choice=\"auto\")\n",
    "execution_settings.function_choice_behavior = FunctionChoiceBehavior.Auto()\n",
    "# Create a history of the conversation\n",
    "history = ChatHistory()\n",
    "history.add_system_message(system_message)\n",
    "history.add_user_message(\"What is the schema of the table  'dimension_customer'\")\n",
    "\n",
    "result = (await chat_completion.get_chat_message_contents(\n",
    "        chat_history=history,\n",
    "        settings=execution_settings,\n",
    "        kernel=kernel,\n",
    "        arguments=KernelArguments(),\n",
    "    ))[0]\n",
    "print(result)\n",
    "\n",
    "\n",
    "history.add_assistant_message(str(result))\n"
   ]
  },
  {
   "cell_type": "code",
   "execution_count": 12,
   "id": "8bdc7344",
   "metadata": {},
   "outputs": [
    {
     "name": "stdout",
     "output_type": "stream",
     "text": [
      "wwilakehouse_01\n",
      "SELECT TOP 10 PostalCode, COUNT(*) as CustomerCount\n",
      "FROM [wwilakehouse_01].[dbo].[dimension_customer]\n",
      "GROUP BY PostalCode\n",
      "ORDER BY CustomerCount DESC;\n",
      "Here are the 10 most common zip codes (PostalCodes) for customers and their counts:\n",
      "\n",
      "1. 90683 - 5 customers\n",
      "2. 90298 - 4 customers\n",
      "3. 90761 - 3 customers\n",
      "4. 90179 - 3 customers\n",
      "5. 90588 - 3 customers\n",
      "6. 90686 - 3 customers\n",
      "7. 90706 - 3 customers\n",
      "8. 90050 - 2 customers\n",
      "9. 90644 - 2 customers\n",
      "10. 90451 - 2 customers\n",
      "\n",
      "Let me know if you want more details or a breakdown for other columns!\n"
     ]
    }
   ],
   "source": [
    "history.add_user_message(\"great, what are 10 zip codes that are the most common for customers?\")\n",
    "\n",
    "result = (await chat_completion.get_chat_message_contents(\n",
    "        chat_history=history,\n",
    "        settings=execution_settings,\n",
    "        kernel=kernel,\n",
    "        arguments=KernelArguments(),\n",
    "    ))[0]\n",
    "print(result)"
   ]
  },
  {
   "cell_type": "code",
   "execution_count": null,
   "id": "330ea69c",
   "metadata": {},
   "outputs": [],
   "source": []
  }
 ],
 "metadata": {
  "kernelspec": {
   "display_name": ".venv",
   "language": "python",
   "name": "python3"
  },
  "language_info": {
   "codemirror_mode": {
    "name": "ipython",
    "version": 3
   },
   "file_extension": ".py",
   "mimetype": "text/x-python",
   "name": "python",
   "nbconvert_exporter": "python",
   "pygments_lexer": "ipython3",
   "version": "3.11.9"
  }
 },
 "nbformat": 4,
 "nbformat_minor": 5
}
